{
 "cells": [
  {
   "cell_type": "markdown",
   "metadata": {},
   "source": [
    "# Notebook for Autogen Sample\n",
    "The following code is example on how to use Autogen.\n",
    "Version: 0.4.7"
   ]
  },
  {
   "cell_type": "code",
   "execution_count": null,
   "metadata": {},
   "outputs": [],
   "source": [
    "!pip install \"autogen-ext[magentic-one]\" azure-identity aiohttp"
   ]
  },
  {
   "cell_type": "markdown",
   "metadata": {},
   "source": [
    "### Sample Code for Autogen\n",
    "#### Sample 1: Use Autogen to write code without human input."
   ]
  },
  {
   "cell_type": "markdown",
   "metadata": {},
   "source": [
    "Load environment variables from .env."
   ]
  },
  {
   "cell_type": "code",
   "execution_count": null,
   "metadata": {},
   "outputs": [],
   "source": [
    "import os\n",
    "from dotenv import load_dotenv\n",
    "\n",
    "load_dotenv()"
   ]
  },
  {
   "cell_type": "markdown",
   "metadata": {},
   "source": [
    "Define the agent client using Azure OpenAI. Developer can choose other client such as OpenAI, or open source model.\n",
    "Refer to the [documentation](https://microsoft.github.io/autogen/stable/user-guide/core-user-guide/components/model-clients.html) for more information."
   ]
  },
  {
   "cell_type": "code",
   "execution_count": null,
   "metadata": {},
   "outputs": [],
   "source": [
    "from autogen_ext.models.openai import AzureOpenAIChatCompletionClient\n",
    "\n",
    "## Define the client used for the agent\n",
    "aoai_client = AzureOpenAIChatCompletionClient(\n",
    "    azure_endpoint=os.getenv('AZURE_OPEN_AI_ENDPOINT'),\n",
    "    model=os.getenv('AZURE_OPEN_AI_MODEL_NAME'),\n",
    "    api_version=\"2024-12-01-preview\",\n",
    "    api_key=os.getenv('AZURE_OPEN_AI_KEY')\n",
    ")"
   ]
  },
  {
   "cell_type": "code",
   "execution_count": null,
   "metadata": {},
   "outputs": [],
   "source": [
    "from autogen_ext.teams.magentic_one import MagenticOne\n",
    "from autogen_agentchat.ui import Console\n",
    "from autogen_ext.code_executors.local import LocalCommandLineCodeExecutor\n",
    "\n",
    "\n",
    "async def write_code():\n",
    "    m1 = MagenticOne(client=aoai_client, code_executor=LocalCommandLineCodeExecutor())\n",
    "    task = \"Write an python code to calculate the nth fibonacci number, and also display the host name of the compute the codes being executed. Then, use the code to calculate the 10th fibonacci number and reply user.\"\n",
    "    result = await Console(m1.run_stream(task=task))\n",
    "    print(result)\n",
    "\n",
    "\n",
    "await write_code()"
   ]
  },
  {
   "cell_type": "markdown",
   "metadata": {},
   "source": [
    "#### Sample 2: Magentic-One with Human Input\n",
    "\n",
    "Human in the loop for getting futher inputs."
   ]
  },
  {
   "cell_type": "code",
   "execution_count": null,
   "metadata": {},
   "outputs": [],
   "source": [
    "from autogen_ext.teams.magentic_one import MagenticOne\n",
    "from autogen_agentchat.ui import Console\n",
    "from autogen_ext.code_executors.local import LocalCommandLineCodeExecutor\n",
    "\n",
    "\n",
    "async def write_code_hil():\n",
    "    m1 = MagenticOne(client=aoai_client, code_executor=LocalCommandLineCodeExecutor(), hil_mode=True)\n",
    "    task = \"Write an python code to calculate the nth fibonacci number, and also display the host name of the compute the codes being executed. Then, ask user to provide the value of n and use the code to calculate the nth fibonacci number and reply user.\"\n",
    "    result = await Console(m1.run_stream(task=task))\n",
    "    print(result)\n",
    "\n",
    "\n",
    "await write_code_hil()"
   ]
  },
  {
   "cell_type": "markdown",
   "metadata": {},
   "source": [
    "#### Sample 3: Magentic-One with Azure Container Apps Dynamic Code Container"
   ]
  },
  {
   "cell_type": "code",
   "execution_count": null,
   "metadata": {},
   "outputs": [],
   "source": [
    "from azure.identity import DefaultAzureCredential\n",
    "\n",
    "credential = DefaultAzureCredential()\n",
    "token = credential.get_token(\"https://dynamicsessions.io/.default\")\n",
    "access_token = token.token"
   ]
  },
  {
   "cell_type": "code",
   "execution_count": null,
   "metadata": {},
   "outputs": [],
   "source": [
    "from autogen_ext.code_executors.azure import ACADynamicSessionsCodeExecutor\n",
    "\n",
    "code_executor = ACADynamicSessionsCodeExecutor(\n",
    "    pool_management_endpoint=os.getenv('ACA_POOL_MANAGEMENT_ENDPOINT'),\n",
    "    credential=credential\n",
    ")"
   ]
  },
  {
   "cell_type": "code",
   "execution_count": null,
   "metadata": {},
   "outputs": [],
   "source": [
    "from autogen_ext.teams.magentic_one import MagenticOne\n",
    "from autogen_agentchat.ui import Console\n",
    "\n",
    "\n",
    "async def write_code_with_aca():\n",
    "    m1 = MagenticOne(client=aoai_client, code_executor=code_executor)\n",
    "    task = \"Write an python code to calculate the nth fibonacci number, and also display the host name of the compute the codes being executed. Then, use the code to calculate the 10th fibonacci number and reply user.\"\n",
    "    result = await Console(m1.run_stream(task=task))\n",
    "    print(result)\n",
    "\n",
    "\n",
    "await write_code_with_aca()"
   ]
  }
 ],
 "metadata": {
  "kernelspec": {
   "display_name": "Python 3",
   "language": "python",
   "name": "python3"
  },
  "language_info": {
   "codemirror_mode": {
    "name": "ipython",
    "version": 3
   },
   "file_extension": ".py",
   "mimetype": "text/x-python",
   "name": "python",
   "nbconvert_exporter": "python",
   "pygments_lexer": "ipython3",
   "version": "3.12.1"
  }
 },
 "nbformat": 4,
 "nbformat_minor": 2
}
